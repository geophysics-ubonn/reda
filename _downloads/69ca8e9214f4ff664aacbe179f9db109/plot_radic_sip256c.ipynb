{
  "cells": [
    {
      "cell_type": "code",
      "execution_count": null,
      "metadata": {
        "collapsed": false
      },
      "outputs": [],
      "source": [
        "%matplotlib inline"
      ]
    },
    {
      "cell_type": "markdown",
      "metadata": {},
      "source": [
        "\n# Importing Radic SIP256c data\n\n<div class=\"alert alert-danger\"><h4>Warning</h4><p>The SIP256c importer is incredibly slow at the moment. Sorry for that.</p></div>\n"
      ]
    },
    {
      "cell_type": "markdown",
      "metadata": {},
      "source": [
        "create the data container\n\n"
      ]
    },
    {
      "cell_type": "code",
      "execution_count": null,
      "metadata": {
        "collapsed": false
      },
      "outputs": [],
      "source": [
        "import reda\nseit = reda.sEIT()"
      ]
    },
    {
      "cell_type": "markdown",
      "metadata": {},
      "source": [
        "import the data\n\n"
      ]
    },
    {
      "cell_type": "code",
      "execution_count": null,
      "metadata": {
        "collapsed": false
      },
      "outputs": [],
      "source": [
        "seit.import_sip256c('data_Radic_256c/dipdip_skip0_nor.res')\nseit.import_sip256c('data_Radic_256c/dipdip_skip0_rec.res', reciprocal=49)"
      ]
    },
    {
      "cell_type": "markdown",
      "metadata": {},
      "source": [
        "compute K factors (electrode spacing was 3 m)\n\n"
      ]
    },
    {
      "cell_type": "code",
      "execution_count": null,
      "metadata": {
        "collapsed": false
      },
      "outputs": [],
      "source": [
        "import reda.utils.geometric_factors as redaK\nK = redaK.compute_K_analytical(seit.data, spacing=3)\nredaK.apply_K(seit.data, K)"
      ]
    },
    {
      "cell_type": "markdown",
      "metadata": {},
      "source": [
        "fix signs/pi-shifts caused by negative geometric factors\n\n"
      ]
    },
    {
      "cell_type": "code",
      "execution_count": null,
      "metadata": {
        "collapsed": false
      },
      "outputs": [],
      "source": [
        "import reda.utils.fix_sign_with_K as redaFixK\nredaFixK.fix_sign_with_K(seit.data)"
      ]
    },
    {
      "cell_type": "markdown",
      "metadata": {},
      "source": [
        "Plot histograms of raw data\n\n"
      ]
    },
    {
      "cell_type": "code",
      "execution_count": null,
      "metadata": {
        "collapsed": false
      },
      "outputs": [],
      "source": [
        "# TODO"
      ]
    },
    {
      "cell_type": "markdown",
      "metadata": {},
      "source": [
        "filter the data a bit\n\n"
      ]
    },
    {
      "cell_type": "code",
      "execution_count": null,
      "metadata": {
        "collapsed": false
      },
      "outputs": [],
      "source": [
        "seit.query('r > 0')\nseit.query('rpha > -50 and rpha < 30')"
      ]
    },
    {
      "cell_type": "markdown",
      "metadata": {},
      "source": [
        "group the data into frequencies\n\n"
      ]
    },
    {
      "cell_type": "code",
      "execution_count": null,
      "metadata": {
        "collapsed": false
      },
      "outputs": [],
      "source": [
        "g = seit.data.groupby('frequency')"
      ]
    },
    {
      "cell_type": "markdown",
      "metadata": {},
      "source": [
        "Plot pseudosection for 10 Hz\n\n"
      ]
    },
    {
      "cell_type": "code",
      "execution_count": null,
      "metadata": {
        "collapsed": false
      },
      "outputs": [],
      "source": [
        "import reda.plotters.pseudoplots as PS\ndata_10hz = g.get_group(10)\nfig, ax, cb = PS.plot_pseudosection_type2(\n    data_10hz, column='r', log10=True)\nfig, ax, cb = PS.plot_pseudosection_type2(\n    data_10hz, column='rpha')"
      ]
    },
    {
      "cell_type": "markdown",
      "metadata": {},
      "source": [
        "Plot pseudosections of all frequencies\n\n"
      ]
    },
    {
      "cell_type": "code",
      "execution_count": null,
      "metadata": {
        "collapsed": false
      },
      "outputs": [],
      "source": [
        "import reda.plotters.pseudoplots as PS\nimport pylab as plt\nwith reda.CreateEnterDirectory('output_radic'):\n    fig, axes = plt.subplots(\n        7, 2,\n        figsize=(15 / 2.54, 25 / 2.54),\n        sharex=True, sharey=True\n    )\n    for ax, (key, item) in zip(axes.flat, g):\n        fig, ax, cb = PS.plot_pseudosection_type2(\n            item, ax=ax, column='r', log10=True)\n        ax.set_title('f: {} Hz'.format(key))\n    fig.subplots_adjust(\n        hspace=1,\n        wspace=0.5,\n        right=0.9,\n        top=0.95,\n    )\n    fig.savefig('pseudosections_radic.pdf')"
      ]
    },
    {
      "cell_type": "markdown",
      "metadata": {},
      "source": [
        "plotting of SIP/EIS spectra is still somewhat cumbersome, but will be\nimproved in the future\n\n"
      ]
    },
    {
      "cell_type": "code",
      "execution_count": null,
      "metadata": {
        "collapsed": false
      },
      "outputs": [],
      "source": [
        "import reda.eis.plots as eis_plot\nimport numpy as np\n\nsubdata = seit.data.query(\n    'a == 1 and b == 2 and m == 5 and n == 4'\n).sort_values('frequency')\n# determine the norrec-id of this spectrum\nnr_id = subdata['id'].iloc[0]\nsubdata_rec = seit.data.query(\n    'id == {} and norrec==\"rec\"'.format(nr_id)\n).sort_values('frequency')\n\nspectrum_nor = eis_plot.sip_response(\n    frequencies=subdata['frequency'].values,\n    rcomplex=subdata['r'] * np.exp(1j * subdata['rpha'] / 1000)\n)\nspectrum_rec = eis_plot.sip_response(\n    frequencies=subdata_rec['frequency'].values,\n    rcomplex=subdata_rec['r'] * np.exp(1j * subdata_rec['rpha'] / 1000)\n)\nwith reda.CreateEnterDirectory('output_radic'):\n    spectrum_nor.plot('spectrum.pdf', reciprocal=spectrum_rec, return_fig=True)"
      ]
    }
  ],
  "metadata": {
    "kernelspec": {
      "display_name": "Python 3",
      "language": "python",
      "name": "python3"
    },
    "language_info": {
      "codemirror_mode": {
        "name": "ipython",
        "version": 3
      },
      "file_extension": ".py",
      "mimetype": "text/x-python",
      "name": "python",
      "nbconvert_exporter": "python",
      "pygments_lexer": "ipython3",
      "version": "3.9.12"
    }
  },
  "nbformat": 4,
  "nbformat_minor": 0
}