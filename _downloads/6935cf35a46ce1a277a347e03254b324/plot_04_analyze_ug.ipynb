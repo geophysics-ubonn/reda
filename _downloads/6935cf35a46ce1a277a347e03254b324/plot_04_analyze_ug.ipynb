{
  "cells": [
    {
      "cell_type": "code",
      "execution_count": null,
      "metadata": {
        "collapsed": false
      },
      "outputs": [],
      "source": [
        "%matplotlib inline"
      ]
    },
    {
      "cell_type": "markdown",
      "metadata": {},
      "source": [
        "\n# EIT-FZJ: Analyze DC voltages at electrodes during injections\n"
      ]
    },
    {
      "cell_type": "code",
      "execution_count": null,
      "metadata": {
        "collapsed": false
      },
      "outputs": [],
      "source": [
        "import matplotlib.pylab as plt\n\nimport reda\nimport reda.importers.eit_fzj as eit_fzj\n\nadc_data = eit_fzj.get_adc_data('data_eit_fzj_2013_ug/eit_data_mnu0.mat')\n\nwith reda.CreateEnterDirectory('output_04_ug3'):\n    frequencies = list(\n        adc_data.swaplevel(0, 2).groupby('frequency').groups.keys())\n    # frequency to plot\n    frequency = frequencies[1]\n\n    fig, ax = plt.subplots(\n        1, 1, figsize=(20 / 2.54, 25 / 2.54),\n        sharex=True, sharey=True)\n\n    subdata = adc_data.swaplevel(0, 2).loc[frequency]\n    im = ax.imshow(\n        subdata.swaplevel(0, 1, axis=1)['Ug3_1'].values,\n        interpolation=None,\n    )\n    ax.set_aspect('auto')\n\n    ax.set_yticks(list(range(subdata.index.shape[0])))\n    ax.set_yticklabels(subdata.index.droplevel(2).values)\n\n    cb = fig.colorbar(im, ax=ax)\n    cb.set_label(r'Ug [V]')\n    # ax.set_ylim(0, 10)\n\n    ax.set_title('Ug3-1 for {} Hz'.format(frequency))\n    ax.set_ylabel('injection number')\n\n    ax.set_xlabel('ADC Channel')\n\n    fig.tight_layout()\n    fig.savefig('plot_ug3-1.pdf', dpi=300)"
      ]
    }
  ],
  "metadata": {
    "kernelspec": {
      "display_name": "Python 3",
      "language": "python",
      "name": "python3"
    },
    "language_info": {
      "codemirror_mode": {
        "name": "ipython",
        "version": 3
      },
      "file_extension": ".py",
      "mimetype": "text/x-python",
      "name": "python",
      "nbconvert_exporter": "python",
      "pygments_lexer": "ipython3",
      "version": "3.9.5"
    }
  },
  "nbformat": 4,
  "nbformat_minor": 0
}