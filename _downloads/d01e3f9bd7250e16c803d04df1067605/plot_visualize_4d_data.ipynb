{
  "cells": [
    {
      "cell_type": "code",
      "execution_count": null,
      "metadata": {
        "collapsed": false
      },
      "outputs": [],
      "source": [
        "%matplotlib inline"
      ]
    },
    {
      "cell_type": "markdown",
      "metadata": {},
      "source": [
        "\n# Visualizing multi-dimensional sEIT data\n\nThis is work in progress\n"
      ]
    },
    {
      "cell_type": "markdown",
      "metadata": {},
      "source": [
        "imports\n\n"
      ]
    },
    {
      "cell_type": "code",
      "execution_count": null,
      "metadata": {
        "collapsed": false
      },
      "outputs": [],
      "source": [
        "import reda"
      ]
    },
    {
      "cell_type": "markdown",
      "metadata": {},
      "source": [
        "load the data set\n\n"
      ]
    },
    {
      "cell_type": "code",
      "execution_count": null,
      "metadata": {
        "collapsed": false
      },
      "outputs": [],
      "source": [
        "seit = reda.sEIT()\nfor nr in range(0, 4):\n    seit.import_crtomo(\n        directory='data_synthetic_4d/modV_0{}_noisy/'.format(nr),\n        timestep=nr\n    )\nseit.compute_K_analytical(spacing=1)"
      ]
    },
    {
      "cell_type": "markdown",
      "metadata": {},
      "source": [
        "Plotting pseudosections\n\n"
      ]
    },
    {
      "cell_type": "code",
      "execution_count": null,
      "metadata": {
        "collapsed": false
      },
      "outputs": [],
      "source": [
        "with reda.CreateEnterDirectory('output_visualize_4d'):\n    pass\n    print(\n        'at this point the plotting routines do not honor'\n        ' timestep dimensionality'\n    )"
      ]
    },
    {
      "cell_type": "markdown",
      "metadata": {},
      "source": [
        "Plot a single spectrum\n\n"
      ]
    },
    {
      "cell_type": "code",
      "execution_count": null,
      "metadata": {
        "collapsed": false
      },
      "outputs": [],
      "source": [
        "nor, rec = seit.get_spectrum(abmn=[1, 2, 4, 3])\n\nwith reda.CreateEnterDirectory('output_visualize_4d'):\n    for timestep, spectrum in nor.items():\n        spectrum.plot(filename='spectrum_1-2_4-3_ts_{}.png'.format(timestep))\n\nwith reda.CreateEnterDirectory('output_visualize_4d'):\n    nor, rec, fig = seit.get_spectrum(\n        abmn=[1, 2, 4, 3], plot_filename='specplot.png'\n    )"
      ]
    },
    {
      "cell_type": "code",
      "execution_count": null,
      "metadata": {
        "collapsed": false
      },
      "outputs": [],
      "source": [
        "from reda.eis.plots import multi_sip_response\n# important: use the obj_dict parameter to use a dict as input\nmulti = multi_sip_response(obj_dict=nor)\nwith reda.CreateEnterDirectory('output_visualize_4d'):\n    multi.plot_cre('multiplot_cre.png')\n    multi.plot_cim('multiplot_cim.png')\n    multi.plot_rmag('multiplot_rmag.png')\n    multi.plot_rpha('multiplot_rpha.png')"
      ]
    },
    {
      "cell_type": "markdown",
      "metadata": {},
      "source": [
        "Histograms\njust used to close the figures to save memory\n\n"
      ]
    },
    {
      "cell_type": "code",
      "execution_count": null,
      "metadata": {
        "collapsed": false
      },
      "outputs": [],
      "source": [
        "import pylab as plt\n\nwith reda.CreateEnterDirectory('output_visualize_4d'):\n    # plot frequencies in one plot\n    name, figs = seit.plot_histograms('rho_a', 'frequency')\n    for ts, fig in sorted(figs.items()):\n        fig.savefig(name + '_lin_{}.jpg'.format(ts), dpi=200)\n        plt.close(fig)\n\n    # plot in log10 representation\n    name, figs = seit.plot_histograms('rho_a', 'frequency', log10=True)\n    for ts, fig in sorted(figs.items()):\n        fig.savefig(name + '_log10_{}.jpg'.format(ts), dpi=200)\n        plt.close(fig)\n\n    name, figs = seit.plot_histograms('rho_a', 'timestep')\n    # plot only each third plot\n    for ts, fig in sorted(figs.items())[0::3]:\n        fig.savefig(name + '_{}.jpg'.format(ts), dpi=200)\n        plt.close(fig)"
      ]
    }
  ],
  "metadata": {
    "kernelspec": {
      "display_name": "Python 3",
      "language": "python",
      "name": "python3"
    },
    "language_info": {
      "codemirror_mode": {
        "name": "ipython",
        "version": 3
      },
      "file_extension": ".py",
      "mimetype": "text/x-python",
      "name": "python",
      "nbconvert_exporter": "python",
      "pygments_lexer": "ipython3",
      "version": "3.9.12"
    }
  },
  "nbformat": 4,
  "nbformat_minor": 0
}