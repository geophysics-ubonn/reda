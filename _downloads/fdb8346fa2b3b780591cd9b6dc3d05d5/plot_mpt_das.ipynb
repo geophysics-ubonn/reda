{
  "cells": [
    {
      "cell_type": "code",
      "execution_count": null,
      "metadata": {
        "collapsed": false
      },
      "outputs": [],
      "source": [
        "%matplotlib inline"
      ]
    },
    {
      "cell_type": "markdown",
      "metadata": {},
      "source": [
        "\n# Import MPT DAS-1 data\n"
      ]
    },
    {
      "cell_type": "code",
      "execution_count": null,
      "metadata": {
        "collapsed": false
      },
      "outputs": [],
      "source": [
        "import reda"
      ]
    },
    {
      "cell_type": "markdown",
      "metadata": {},
      "source": [
        "normal loading of tdip data\n\n"
      ]
    },
    {
      "cell_type": "code",
      "execution_count": null,
      "metadata": {
        "collapsed": false
      },
      "outputs": [],
      "source": [
        "ip = reda.TDIP()\n# with profiler():\nip.import_mpt('data_mpt_das1/TD_2000ms.Data')\n\nprint(ip.data[['a', 'b', 'm', 'n', 'id', 'norrec']])\n\n# import IPython\n# IPython.embed()\n# exit()"
      ]
    },
    {
      "cell_type": "code",
      "execution_count": null,
      "metadata": {
        "collapsed": false
      },
      "outputs": [],
      "source": [
        "import reda.utils.geometric_factors as geomK\nK = geomK.compute_K_analytical(ip.data, spacing=2)\ngeomK.apply_K(ip.data, K)\n\nimport reda.utils.fix_sign_with_K as fixK\nip.data = fixK.fix_sign_with_K(ip.data)"
      ]
    }
  ],
  "metadata": {
    "kernelspec": {
      "display_name": "Python 3",
      "language": "python",
      "name": "python3"
    },
    "language_info": {
      "codemirror_mode": {
        "name": "ipython",
        "version": 3
      },
      "file_extension": ".py",
      "mimetype": "text/x-python",
      "name": "python",
      "nbconvert_exporter": "python",
      "pygments_lexer": "ipython3",
      "version": "3.9.12"
    }
  },
  "nbformat": 4,
  "nbformat_minor": 0
}