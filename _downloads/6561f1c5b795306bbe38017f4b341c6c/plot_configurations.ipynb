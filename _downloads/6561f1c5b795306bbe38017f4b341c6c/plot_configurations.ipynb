{
  "cells": [
    {
      "cell_type": "code",
      "execution_count": null,
      "metadata": {
        "collapsed": false
      },
      "outputs": [],
      "source": [
        "%matplotlib inline"
      ]
    },
    {
      "cell_type": "markdown",
      "metadata": {},
      "source": [
        "\n# Various ways to create measurement configurations\n"
      ]
    },
    {
      "cell_type": "code",
      "execution_count": null,
      "metadata": {
        "collapsed": false
      },
      "outputs": [],
      "source": [
        "from reda import ConfigManager\n\nconfigs = ConfigManager(nr_of_electrodes=32)\n\nconfigs.gen_gradient(skip=10, step=8, vskip=5)\nconfigs.gen_dipole_dipole(skipc=1)\nconfigs.gen_gradient()\nconfigs.gen_schlumberger(15, 16)\n\nprint(configs.configs)"
      ]
    },
    {
      "cell_type": "markdown",
      "metadata": {},
      "source": [
        "export mechanisms:\n\n"
      ]
    },
    {
      "cell_type": "code",
      "execution_count": null,
      "metadata": {
        "collapsed": false
      },
      "outputs": [],
      "source": [
        "import reda\nwith reda.CreateEnterDirectory('exported_configs'):\n    configs.to_iris_syscal('syscal_configs.txt')\n    configs.write_configs('abmn.dat')\n    configs.write_crmod_config('config.dat')"
      ]
    }
  ],
  "metadata": {
    "kernelspec": {
      "display_name": "Python 3",
      "language": "python",
      "name": "python3"
    },
    "language_info": {
      "codemirror_mode": {
        "name": "ipython",
        "version": 3
      },
      "file_extension": ".py",
      "mimetype": "text/x-python",
      "name": "python",
      "nbconvert_exporter": "python",
      "pygments_lexer": "ipython3",
      "version": "3.9.12"
    }
  },
  "nbformat": 4,
  "nbformat_minor": 0
}