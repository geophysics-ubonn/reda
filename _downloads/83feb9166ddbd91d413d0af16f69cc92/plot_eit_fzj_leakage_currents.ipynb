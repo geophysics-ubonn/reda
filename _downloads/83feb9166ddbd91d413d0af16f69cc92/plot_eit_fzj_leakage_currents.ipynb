{
  "cells": [
    {
      "cell_type": "code",
      "execution_count": null,
      "metadata": {
        "collapsed": false
      },
      "outputs": [],
      "source": [
        "%matplotlib inline"
      ]
    },
    {
      "cell_type": "markdown",
      "metadata": {},
      "source": [
        "\n# Analyzing leakage currents\n\nReproduce Fig. 4 of Zimmermann et al 2019:\n\nZimmermann, E., Huisman, J. A., Mester, A., and van Waasen, S.: Correction of\nphase errors due to leakage currents in wideband EIT field measurements on\nsoil and sediments, Measurement Science and Technology, 30, 084 002,\ndoi:10.1088/1361-6501/ab1b09, 2019.\n"
      ]
    },
    {
      "cell_type": "code",
      "execution_count": null,
      "metadata": {
        "collapsed": false
      },
      "outputs": [],
      "source": [
        "import matplotlib.pylab as plt\nimport numpy as np\n\nimport reda\nimport reda.importers.eit_fzj as eit_fzj\n\nemd, md = eit_fzj.get_mnu0_data(\n    'data_eit_fzj_leakage_currents/eit_data_mnu0.mat',\n    'data_eit_fzj_leakage_currents/configs.data',\n    multiplexer_group=1\n)\n\ndata_1k = emd.query('frequency == 1000')\n\n# symmetric excitation current\nIs = data_1k['Iab']\n# leakage current\nIl = data_1k['Ileakage']\n\nratio_IlIs = np.abs(Il) / np.abs(Is)\n\nZt_imag = np.imag(data_1k['Zt'])\n\nfig, ax = plt.subplots(1, 1, figsize=(8.3 / 2.54, 4.5 / 2.54))\nax.semilogx(ratio_IlIs, Zt_imag, '.')\nax.set_ylabel(r'imag(Zt) [$\\Omega$]')\n\nax.set_xlabel(r'$|I_l| / |I_s|$')\n\nfig.tight_layout()\nwith reda.CreateEnterDirectory('output_eit_fzj_leakage_currents'):\n    fig.savefig('plot_ratio_vs_Zt.jpg', dpi=300)"
      ]
    }
  ],
  "metadata": {
    "kernelspec": {
      "display_name": "Python 3",
      "language": "python",
      "name": "python3"
    },
    "language_info": {
      "codemirror_mode": {
        "name": "ipython",
        "version": 3
      },
      "file_extension": ".py",
      "mimetype": "text/x-python",
      "name": "python",
      "nbconvert_exporter": "python",
      "pygments_lexer": "ipython3",
      "version": "3.9.5"
    }
  },
  "nbformat": 4,
  "nbformat_minor": 0
}