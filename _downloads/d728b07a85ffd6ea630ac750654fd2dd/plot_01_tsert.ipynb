{
  "cells": [
    {
      "cell_type": "code",
      "execution_count": null,
      "metadata": {
        "collapsed": false
      },
      "outputs": [],
      "source": [
        "%matplotlib inline"
      ]
    },
    {
      "cell_type": "markdown",
      "metadata": {},
      "source": [
        "\n# TSERT: Using the TSERT file format\n\nThe TSERT file format is an experimental file format that stores monitoring\n(time-lapse) electrical data, as well as electrode positions, topography and\nmetadata within one file for easy access and distribution.\n"
      ]
    },
    {
      "cell_type": "code",
      "execution_count": null,
      "metadata": {
        "collapsed": false
      },
      "outputs": [],
      "source": [
        "import os\nimport datetime\nimport pprint\n\nimport numpy as np\nimport pandas as pd\n\nimport reda"
      ]
    },
    {
      "cell_type": "markdown",
      "metadata": {},
      "source": [
        "Lets clean up output files\n\n"
      ]
    },
    {
      "cell_type": "code",
      "execution_count": null,
      "metadata": {
        "collapsed": false
      },
      "outputs": [],
      "source": [
        "if os.path.isfile('data.h5'):\n    os.unlink('data.h5')"
      ]
    },
    {
      "cell_type": "markdown",
      "metadata": {},
      "source": [
        "Export data to the tsert file format\n\n"
      ]
    },
    {
      "cell_type": "code",
      "execution_count": null,
      "metadata": {
        "collapsed": false
      },
      "outputs": [],
      "source": [
        "ert = reda.ERT()\n\n# set electrode positions\nelectrodes = reda.electrode_manager()\nelectrodes.add_by_position(np.arange(0, 40) * 0.25)\nert.electrode_positions = electrodes.electrode_positions\n\n# set topography\ntopography = pd.DataFrame(columns=['x', 'y', 'z'])\ntopography['x'] = np.arange(0, 40) * 0.25\ntopography['y'] = 0\ntopography['z'] = 0\nert.topography = topography\n\n# add some arbitrary metadata\nert.metadata['measurement_device'] = 'IRIS Syscal Pro 48 ch'\nert.metadata['person_responsible'] = 'Maximilian Weigand'\nert.metadata['nr_electrodes'] = 48\nert.metadata['electrode_spacing'] = 1\n# lets add a subgroup containing device-specific information\nert.metadata['device_specific'] = {\n    'max_current': 2,\n    'memory_block': 2567,\n}\n\n# # version 1\nert.import_crtomo_data(\n    'data/2018-04-13_11-00-25+00-00.dat',\n    timestep=datetime.datetime(2018, 5, 13),\n)\nert.import_crtomo_data(\n    'data/2018-06-01_09-00-43+00-00.dat',\n    timestep=datetime.datetime(2018, 6, 1)\n)\nert.import_crtomo_data(\n    'data/2018-08-02_09-00-14+00-00.dat',\n    timestep=datetime.datetime(2018, 8, 2),\n)\n\n# version 2: MANY timesteps\n# for i in range(0, 4):\n#     ert.import_crtomo_data('data/2018-08-02_09-00-14+00-00.dat', timestep=i)\n\nert.export_tsert(\n    'data.h5',\n    version='base',\n)"
      ]
    },
    {
      "cell_type": "markdown",
      "metadata": {},
      "source": [
        "Loading data from the tsert file format\n\n"
      ]
    },
    {
      "cell_type": "code",
      "execution_count": null,
      "metadata": {
        "collapsed": false
      },
      "outputs": [],
      "source": [
        "# create an ert container\nert = reda.ERT()\n\n# this is an optional command: it summarises a given file without loading\n# anything\nert.tsert_summary('data.h5', print_index=True)\n\n# do the actual import\nert.import_tsert(\n    'data.h5',\n    # not_before=datetime.datetime(2018, 5, 20),\n    # not_after=datetime.datetime(2018, 7, 20),\n)\n\nprint(ert.data.groupby('timestep').groups.keys())\n\nassert ert.data.shape[0] == 1962, \\\n    \"Expected number of data points is {}\".format(1962)"
      ]
    },
    {
      "cell_type": "markdown",
      "metadata": {},
      "source": [
        "We can plot the electrode positions:\n\n"
      ]
    },
    {
      "cell_type": "code",
      "execution_count": null,
      "metadata": {
        "collapsed": false
      },
      "outputs": [],
      "source": [
        "ert.plot_electrode_positions_2d()"
      ]
    },
    {
      "cell_type": "markdown",
      "metadata": {},
      "source": [
        "We can also plot topography and electrodes:\n\n"
      ]
    },
    {
      "cell_type": "code",
      "execution_count": null,
      "metadata": {
        "collapsed": false
      },
      "outputs": [],
      "source": [
        "ert.plot_topography_2d()"
      ]
    },
    {
      "cell_type": "markdown",
      "metadata": {},
      "source": [
        "Lets have a look at the imported metadata\n\n"
      ]
    },
    {
      "cell_type": "code",
      "execution_count": null,
      "metadata": {
        "collapsed": false
      },
      "outputs": [],
      "source": [
        "pprint.pprint(ert.metadata)"
      ]
    },
    {
      "cell_type": "markdown",
      "metadata": {},
      "source": [
        "If timesteps are datetimes then imports can be limited by the not_before and\nnot_after parameters\n\n"
      ]
    },
    {
      "cell_type": "code",
      "execution_count": null,
      "metadata": {
        "collapsed": false
      },
      "outputs": [],
      "source": [
        "# create an ert container\nert = reda.ERT()\nert.import_tsert(\n    'data.h5',\n    not_before=datetime.datetime(2018, 5, 20),\n)\nprint(ert.data.groupby('timestep').groups.keys())\n\nert = reda.ERT()\nert.import_tsert(\n    'data.h5',\n    not_after=datetime.datetime(2018, 7, 20),\n)\nprint(ert.data.groupby('timestep').groups.keys())"
      ]
    }
  ],
  "metadata": {
    "kernelspec": {
      "display_name": "Python 3",
      "language": "python",
      "name": "python3"
    },
    "language_info": {
      "codemirror_mode": {
        "name": "ipython",
        "version": 3
      },
      "file_extension": ".py",
      "mimetype": "text/x-python",
      "name": "python",
      "nbconvert_exporter": "python",
      "pygments_lexer": "ipython3",
      "version": "3.9.12"
    }
  },
  "nbformat": 4,
  "nbformat_minor": 0
}