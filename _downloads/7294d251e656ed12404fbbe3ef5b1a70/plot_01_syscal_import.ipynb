{
  "cells": [
    {
      "cell_type": "code",
      "execution_count": null,
      "metadata": {
        "collapsed": false
      },
      "outputs": [],
      "source": [
        "%matplotlib inline"
      ]
    },
    {
      "cell_type": "markdown",
      "metadata": {},
      "source": [
        "\n# Importing Syscal ERT data\n\nThis example is all about import data from IRIS Instruments Syscal systems.\nThere is a variety of different options that should cover most use cases.\nAlso, shortly introduced are the data journal, action log, filtering, and\naccessing data using the underlying dataframe.\n"
      ]
    },
    {
      "cell_type": "code",
      "execution_count": null,
      "metadata": {
        "collapsed": false
      },
      "outputs": [],
      "source": [
        "import numpy as np\nimport matplotlib.pylab as plt\nimport reda\nert = reda.ERT()"
      ]
    },
    {
      "cell_type": "markdown",
      "metadata": {},
      "source": [
        "data import:\n\n"
      ]
    },
    {
      "cell_type": "code",
      "execution_count": null,
      "metadata": {
        "collapsed": false
      },
      "outputs": [],
      "source": [
        "# note that you should prefer importing the binary data as the text export\n# sometimes is missing some of the auxiliary data contained in the binary data.\nert.import_syscal_txt('data_syscal_ert/data_normal.txt')\n\n# the second data set was measured in a reciprocal configuration by switching\n# the 24-electrode cables on the Syscal Pro input connectors. The parameter\n# \"reciprocals\" changes electrode notations.\nert.import_syscal_txt(\n    'data_syscal_ert/data_reciprocal.txt',\n    reciprocals=48\n)\n\n# compute geometrical factors using the analytical half-space equation for a\n# spacing of 0.25 m\nert.compute_K_analytical(spacing=0.25)"
      ]
    },
    {
      "cell_type": "code",
      "execution_count": null,
      "metadata": {
        "collapsed": false
      },
      "outputs": [],
      "source": [
        "ert.print_data_journal()"
      ]
    },
    {
      "cell_type": "code",
      "execution_count": null,
      "metadata": {
        "collapsed": false
      },
      "outputs": [],
      "source": [
        "ert.print_log()"
      ]
    },
    {
      "cell_type": "markdown",
      "metadata": {},
      "source": [
        "create some plots in a subdirectory\n\n"
      ]
    },
    {
      "cell_type": "code",
      "execution_count": null,
      "metadata": {
        "collapsed": false
      },
      "outputs": [],
      "source": [
        "with reda.CreateEnterDirectory('plots'):\n    ert.pseudosection(\n        column='r', filename='pseudosection_log10_r.pdf', log10=True)\n    ert.histogram(['r', 'rho_a', 'Iab', ], filename='histograms.pdf')"
      ]
    },
    {
      "cell_type": "markdown",
      "metadata": {},
      "source": [
        "export to various data files\n\n"
      ]
    },
    {
      "cell_type": "code",
      "execution_count": null,
      "metadata": {
        "collapsed": false
      },
      "outputs": [],
      "source": [
        "with reda.CreateEnterDirectory('output_01_syscal_import'):\n    ert.export_bert('data.ohm')\n    ert.export_pygimli('data.pygimli')\n    ert.export_crtomo('volt.dat')"
      ]
    },
    {
      "cell_type": "markdown",
      "metadata": {},
      "source": [
        "The data is internally stored in a pandas.DataFrame\nAs such, you can always use the data directly and build your custom\nfunctionality on top of REDA\n\n"
      ]
    },
    {
      "cell_type": "code",
      "execution_count": null,
      "metadata": {
        "collapsed": false
      },
      "outputs": [],
      "source": [
        "print(ert.data)"
      ]
    },
    {
      "cell_type": "markdown",
      "metadata": {},
      "source": [
        "Lets apply an arbitrary filter. Note that the change in data numbers is\nlogged.\nYou can use all columns defined in the data frame for more complex filters\n\n"
      ]
    },
    {
      "cell_type": "code",
      "execution_count": null,
      "metadata": {
        "collapsed": false
      },
      "outputs": [],
      "source": [
        "ert.filter('r <= 0')\nert.filter('(a == 1) and Iab <= 100')\nert.print_data_journal()"
      ]
    },
    {
      "cell_type": "markdown",
      "metadata": {},
      "source": [
        "Also note that normal-reciprocal differences were directly computed.\n\n"
      ]
    },
    {
      "cell_type": "code",
      "execution_count": null,
      "metadata": {
        "collapsed": false
      },
      "outputs": [],
      "source": [
        "fig, ax = plt.subplots()\nax.scatter(\n    ert.data['r'],\n    np.abs(ert.data['rdiff']),\n)\nax.set_xlabel(r'$R [\\Omega$]')\nax.set_ylabel(r'$\\Delta R_{NR}~[\\Omega$]')\nax.grid()\nax.set_xscale('log')\nax.set_yscale('log')"
      ]
    },
    {
      "cell_type": "markdown",
      "metadata": {},
      "source": [
        "The column 'id' groups quadrupoles belonging to the same normal-reciprocal\npair. For example, plot some of the groups\n\n"
      ]
    },
    {
      "cell_type": "code",
      "execution_count": null,
      "metadata": {
        "collapsed": false
      },
      "outputs": [],
      "source": [
        "count = 0\nfor abmn_id, abmn in ert.data.groupby('id'):\n    print('Id:', abmn_id)\n    print(abmn[['a', 'b', 'm', 'n', 'r', 'rho_a', 'k', 'Iab']])\n    # stop early\n    if count > 4:\n        break\n    count += 1"
      ]
    },
    {
      "cell_type": "markdown",
      "metadata": {},
      "source": [
        "There are various ways to import Syscal data, relating to the electrode\nnumbering:\n\n"
      ]
    },
    {
      "cell_type": "code",
      "execution_count": null,
      "metadata": {
        "collapsed": false
      },
      "outputs": [],
      "source": [
        "ert1 = reda.ERT()\nert1.import_syscal_bin(\n    'data_syscal_ert/02_data_normal_thinned_not_all_electrodes/data.bin',\n    check_meas_nums=False,\n)\nprint(ert1.electrode_positions)\n\nert2 = reda.ERT()\nert2.import_syscal_bin(\n    'data_syscal_ert/02_data_normal_thinned_not_all_electrodes/data.bin',\n    check_meas_nums=False,\n    elecs_transform_reg_spacing_x=(1, 2.5),\n)\nprint(ert2.electrode_positions)\n\nert3 = reda.ERT()\nert3.import_syscal_bin(\n    'data_syscal_ert/02_data_normal_thinned_not_all_electrodes/data.bin',\n    check_meas_nums=False,\n    assume_regular_electrodes_x=(48, 1.0),\n    # elecs_transform_reg_spacing_x=(1, 2.5),\n)\nprint(ert3.electrode_positions)\n\nert_rec = reda.ERT()\nert_rec.import_syscal_bin(\n    'data_syscal_ert/02_data_normal_thinned_not_all_electrodes/data.bin',\n    check_meas_nums=False,\n    assume_regular_electrodes_x=(48, 1.0),\n    elecs_transform_reg_spacing_x=(1, 2.5),\n    reciprocals=48,\n)\nprint(ert_rec.electrode_positions)"
      ]
    }
  ],
  "metadata": {
    "kernelspec": {
      "display_name": "Python 3",
      "language": "python",
      "name": "python3"
    },
    "language_info": {
      "codemirror_mode": {
        "name": "ipython",
        "version": 3
      },
      "file_extension": ".py",
      "mimetype": "text/x-python",
      "name": "python",
      "nbconvert_exporter": "python",
      "pygments_lexer": "ipython3",
      "version": "3.9.5"
    }
  },
  "nbformat": 4,
  "nbformat_minor": 0
}