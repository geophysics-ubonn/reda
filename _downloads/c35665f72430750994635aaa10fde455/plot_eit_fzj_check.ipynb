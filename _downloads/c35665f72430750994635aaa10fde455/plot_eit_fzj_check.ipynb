{
  "cells": [
    {
      "cell_type": "code",
      "execution_count": null,
      "metadata": {
        "collapsed": false
      },
      "outputs": [],
      "source": [
        "%matplotlib inline"
      ]
    },
    {
      "cell_type": "markdown",
      "metadata": {},
      "source": [
        "\n# Checking FZJ-EIT data from a test board\n\nThere exist multiple hardware and software versions of the of the EIT\nsystem developed by Zimmermann et al. 2008\n(http://iopscience.iop.org/article/10.1088/0957-0233/19/9/094010/meta). To\ncheck basic system function a test board was built with multiple resistors\nattached to for connectors each. Measurements can thus be validated against\nknown electrical (ohmic) resistances.\n\nAt this point we only support 3-point data, i.e., data which uses two\nelectrodes to inject current, and then uses all electrodes to measure the\nresulting potential distribution against system ground. Classical four-point\nconfigurations are then computed using superposition.\n\nRequired are two files: a data file (usually **eit_data_mnu0.mat** and a text\nfile (usually **resistor_check.dat** containing the measurement configurations\nto extract, and the expected measurement resistances.\n\nThe resistor_check.dat file contains the four-point spreads to be imported from\nthe measurement. This file is a text file with four columns (A, B, M, N),\nseparated by spaces or tabs. Each line denotes one measurement and its expected\nresistance, the allowed variation, and its allow difference towards its\nreciprocal counterpart: ::\n\n    1   2   4   3   1000    1    20\n    4   3   2   1   1000    1    20\n    ...\n"
      ]
    },
    {
      "cell_type": "markdown",
      "metadata": {},
      "source": [
        "imports\n\n"
      ]
    },
    {
      "cell_type": "code",
      "execution_count": null,
      "metadata": {
        "collapsed": false
      },
      "outputs": [],
      "source": [
        "import reda\nimport reda.utils.eit_fzj_utils as eit_fzj_utils"
      ]
    },
    {
      "cell_type": "code",
      "execution_count": null,
      "metadata": {
        "collapsed": false
      },
      "outputs": [],
      "source": [
        "fig = eit_fzj_utils.check_resistor_board_measurements(\n    'data_eit_fzj_check/eit_data_mnu0.mat',\n    'data_eit_fzj_check/resistances.dat'\n)\n# this context manager executes all code within the given directory\nwith reda.CreateEnterDirectory('output_eit_fzj_check'):\n    # The resulting matplotlib figure can now be plotted to visualize the\n    # measurement data and the expected outcomes\n    fig.savefig('eit_fzj_resistor_check.pdf')"
      ]
    }
  ],
  "metadata": {
    "kernelspec": {
      "display_name": "Python 3",
      "language": "python",
      "name": "python3"
    },
    "language_info": {
      "codemirror_mode": {
        "name": "ipython",
        "version": 3
      },
      "file_extension": ".py",
      "mimetype": "text/x-python",
      "name": "python",
      "nbconvert_exporter": "python",
      "pygments_lexer": "ipython3",
      "version": "3.9.5"
    }
  },
  "nbformat": 4,
  "nbformat_minor": 0
}