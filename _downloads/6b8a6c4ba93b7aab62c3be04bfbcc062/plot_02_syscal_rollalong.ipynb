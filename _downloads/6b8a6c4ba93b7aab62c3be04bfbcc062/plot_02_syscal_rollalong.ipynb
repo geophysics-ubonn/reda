{
  "cells": [
    {
      "cell_type": "code",
      "execution_count": null,
      "metadata": {
        "collapsed": false
      },
      "outputs": [],
      "source": [
        "%matplotlib inline"
      ]
    },
    {
      "cell_type": "markdown",
      "metadata": {},
      "source": [
        "\n# Importing Syscal ERT data from roll-a-long scheme\n"
      ]
    },
    {
      "cell_type": "code",
      "execution_count": null,
      "metadata": {
        "collapsed": false
      },
      "outputs": [],
      "source": [
        "import reda"
      ]
    },
    {
      "cell_type": "markdown",
      "metadata": {},
      "source": [
        "create an ERT container and import first dataset\nThe 'elecs_transform_reg_spacing_x' parameter transforms the spacing in x\ndirection from the spacing stored in the data file (here 1 m) to the true\nspacing of 0.2 m. This is useful if the spacing on the measurement system is\nnot changed between measurements and only changed in the postprocessing (this\nis common practice in some work groups).\n\n"
      ]
    },
    {
      "cell_type": "code",
      "execution_count": null,
      "metadata": {
        "collapsed": false
      },
      "outputs": [],
      "source": [
        "ert_p1 = reda.ERT()\nert_p1.import_syscal_bin(\n    'data_syscal_rollalong/profile_1.bin',\n    elecs_transform_reg_spacing_x=(1, 0.2),\n)\nert_p1.compute_K_analytical(spacing=0.2)\nwith reda.CreateEnterDirectory('output_02_rollalong'):\n    ert_p1.pseudosection(\n        filename='profile1_pseudosection.pdf',\n        column='r', log10=True\n    )"
      ]
    },
    {
      "cell_type": "markdown",
      "metadata": {},
      "source": [
        "Print statistics\n\n"
      ]
    },
    {
      "cell_type": "code",
      "execution_count": null,
      "metadata": {
        "collapsed": false
      },
      "outputs": [],
      "source": [
        "ert_p1.print_data_journal()"
      ]
    },
    {
      "cell_type": "markdown",
      "metadata": {},
      "source": [
        "This here is an activity list\n\n"
      ]
    },
    {
      "cell_type": "code",
      "execution_count": null,
      "metadata": {
        "collapsed": false
      },
      "outputs": [],
      "source": [
        "ert_p1.print_log()"
      ]
    },
    {
      "cell_type": "markdown",
      "metadata": {},
      "source": [
        "create an ERT container and import second dataset\n\n"
      ]
    },
    {
      "cell_type": "code",
      "execution_count": null,
      "metadata": {
        "collapsed": false
      },
      "outputs": [],
      "source": [
        "ert_p2 = reda.ERT()\nert_p2.import_syscal_bin(\n    'data_syscal_rollalong/profile_2.bin',\n    elecs_transform_reg_spacing_x=(1, 0.2),\n)\nert_p2.compute_K_analytical(spacing=0.2)\nwith reda.CreateEnterDirectory('output_02_rollalong'):\n    ert_p2.pseudosection(\n        filename='profile2_pseudosection.pdf',\n        column='r',\n        log10=True\n    )"
      ]
    },
    {
      "cell_type": "markdown",
      "metadata": {},
      "source": [
        "Again print the data journal to see what changed in terms of imported data\npoints\n\n"
      ]
    },
    {
      "cell_type": "code",
      "execution_count": null,
      "metadata": {
        "collapsed": false
      },
      "outputs": [],
      "source": [
        "ert_p2.print_data_journal()"
      ]
    },
    {
      "cell_type": "markdown",
      "metadata": {},
      "source": [
        "Now we start over again and fix the coordinates of the second profile by\nusing the 'shift_by_xyz' parameter, which can be used to move the electrode\npositions by a fixed offset. In our case this offset amounts to the position\nof the 25th position (first electrode starts at 0, therefore 24 * 0.25 m).\n\n"
      ]
    },
    {
      "cell_type": "code",
      "execution_count": null,
      "metadata": {
        "collapsed": false
      },
      "outputs": [],
      "source": [
        "ert = reda.ERT()\n\n# first profile\nert.import_syscal_bin(\n    'data_syscal_rollalong/profile_1.bin',\n    elecs_transform_reg_spacing_x=(1, 0.2),\n)\n\nert2 = reda.ERT()\n# second profile\nert2.import_syscal_bin(\n    'data_syscal_rollalong/profile_2.bin',\n    elecs_transform_reg_spacing_x=(1, 0.2),\n    shift_by_xyz=[24 * 0.2],\n)"
      ]
    },
    {
      "cell_type": "markdown",
      "metadata": {},
      "source": [
        "Electrode positions of first dataset\n\n"
      ]
    },
    {
      "cell_type": "code",
      "execution_count": null,
      "metadata": {
        "collapsed": false
      },
      "outputs": [],
      "source": [
        "with reda.CreateEnterDirectory('output_02_rollalong'):\n    fig, ax = ert.plot_electrode_positions_2d()\n    fig.show()"
      ]
    },
    {
      "cell_type": "markdown",
      "metadata": {},
      "source": [
        "Electrode positions of second dataset\n\n"
      ]
    },
    {
      "cell_type": "code",
      "execution_count": null,
      "metadata": {
        "collapsed": false
      },
      "outputs": [],
      "source": [
        "with reda.CreateEnterDirectory('output_02_rollalong'):\n    fig, ax = ert2.plot_electrode_positions_2d()\n    fig.show()"
      ]
    },
    {
      "cell_type": "markdown",
      "metadata": {},
      "source": [
        "Now we merge the datasets and plot the electrode positions\n\n"
      ]
    },
    {
      "cell_type": "code",
      "execution_count": null,
      "metadata": {
        "collapsed": false
      },
      "outputs": [],
      "source": [
        "ert.merge_container(ert2)\n\nwith reda.CreateEnterDirectory('output_02_rollalong'):\n    fig, ax = ert.plot_electrode_positions_2d()\n    fig.show()"
      ]
    },
    {
      "cell_type": "markdown",
      "metadata": {},
      "source": [
        "compute geometric factors\n\n"
      ]
    },
    {
      "cell_type": "code",
      "execution_count": null,
      "metadata": {
        "collapsed": false
      },
      "outputs": [],
      "source": [
        "ert.compute_K_analytical(spacing=0.2)"
      ]
    },
    {
      "cell_type": "markdown",
      "metadata": {},
      "source": [
        "Plot Pseudosection\n\n"
      ]
    },
    {
      "cell_type": "code",
      "execution_count": null,
      "metadata": {
        "collapsed": false
      },
      "outputs": [],
      "source": [
        "with reda.CreateEnterDirectory('output_02_rollalong'):\n    ert.pseudosection(filename='pseudosection_both_profiles.pdf',\n                      column='r', log10=True)"
      ]
    },
    {
      "cell_type": "code",
      "execution_count": null,
      "metadata": {
        "collapsed": false
      },
      "outputs": [],
      "source": [
        "with reda.CreateEnterDirectory('output_02_rollalong'):\n    ert.histogram(filename='hist_both_profiles.pdf',\n                  column=['r', 'rho_a', 'Iab', ])"
      ]
    }
  ],
  "metadata": {
    "kernelspec": {
      "display_name": "Python 3",
      "language": "python",
      "name": "python3"
    },
    "language_info": {
      "codemirror_mode": {
        "name": "ipython",
        "version": 3
      },
      "file_extension": ".py",
      "mimetype": "text/x-python",
      "name": "python",
      "nbconvert_exporter": "python",
      "pygments_lexer": "ipython3",
      "version": "3.9.5"
    }
  },
  "nbformat": 4,
  "nbformat_minor": 0
}