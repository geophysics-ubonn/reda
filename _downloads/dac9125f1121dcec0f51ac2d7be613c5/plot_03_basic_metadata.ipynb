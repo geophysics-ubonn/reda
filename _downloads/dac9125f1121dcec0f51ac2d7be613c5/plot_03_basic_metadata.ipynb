{
  "cells": [
    {
      "cell_type": "code",
      "execution_count": null,
      "metadata": {
        "collapsed": false
      },
      "outputs": [],
      "source": [
        "%matplotlib inline"
      ]
    },
    {
      "cell_type": "markdown",
      "metadata": {},
      "source": [
        "\n# Basic metadata handling\n"
      ]
    },
    {
      "cell_type": "code",
      "execution_count": null,
      "metadata": {
        "collapsed": false
      },
      "outputs": [],
      "source": [
        "import reda"
      ]
    },
    {
      "cell_type": "code",
      "execution_count": null,
      "metadata": {
        "collapsed": false
      },
      "outputs": [],
      "source": [
        "ert = reda.ERT()\n\nert.metadata['measurement_device'] = 'IRIS Syscal Pro 48 ch'\nert.metadata['person_responsible'] = 'Maximilian Weigand'\nert.metadata['nr_electrodes'] = 48\nert.metadata['electrode_spacing'] = 1\n# lets add a subgroup containing device-specific information\nert.metadata['device_specific'] = {\n    'max_current': 2,\n    'memory_block': 2567,\n}\nprint(ert.metadata)\n\n# save metadata\nert.save_metadata('metadata.json')"
      ]
    },
    {
      "cell_type": "code",
      "execution_count": null,
      "metadata": {
        "collapsed": false
      },
      "outputs": [],
      "source": [
        "ert1 = reda.ERT()\nert1.load_metadata('metadata.json')\nprint(ert1.metadata)"
      ]
    }
  ],
  "metadata": {
    "kernelspec": {
      "display_name": "Python 3",
      "language": "python",
      "name": "python3"
    },
    "language_info": {
      "codemirror_mode": {
        "name": "ipython",
        "version": 3
      },
      "file_extension": ".py",
      "mimetype": "text/x-python",
      "name": "python",
      "nbconvert_exporter": "python",
      "pygments_lexer": "ipython3",
      "version": "3.9.12"
    }
  },
  "nbformat": 4,
  "nbformat_minor": 0
}