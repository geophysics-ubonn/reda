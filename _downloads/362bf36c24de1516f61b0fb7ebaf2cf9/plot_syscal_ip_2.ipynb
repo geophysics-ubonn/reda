{
  "cells": [
    {
      "cell_type": "code",
      "execution_count": null,
      "metadata": {
        "collapsed": false
      },
      "outputs": [],
      "source": [
        "%matplotlib inline"
      ]
    },
    {
      "cell_type": "markdown",
      "metadata": {},
      "source": [
        "\n# Another three data sets\n\nData sets from:\n\nDecay curve analysis for data error quantification in time-domain induced\npolarization imaging Adrian Flores Orozco, Jakob Gallistl, Matthias B\u00fccker, and\nKenneth H. Williams GEOPHYSICS 2018 83:2, E75-E86\n\nhttps://doi.org/10.1190/geo2016-0714.1\n"
      ]
    },
    {
      "cell_type": "code",
      "execution_count": null,
      "metadata": {
        "collapsed": false
      },
      "outputs": [],
      "source": [
        "import reda"
      ]
    },
    {
      "cell_type": "markdown",
      "metadata": {},
      "source": [
        "normal loading of tdip data\n\n"
      ]
    },
    {
      "cell_type": "code",
      "execution_count": null,
      "metadata": {
        "collapsed": false
      },
      "outputs": [],
      "source": [
        "ip = reda.TDIP()\n# with profiler():\nip.import_syscal_bin('data_syscal_ip_2/l1sk0n_1.bin')\n\nprint(ip.data[['a', 'b', 'm', 'n', 'id', 'norrec']])\n\n# import IPython\n# IPython.embed()\n# exit()"
      ]
    },
    {
      "cell_type": "code",
      "execution_count": null,
      "metadata": {
        "collapsed": false
      },
      "outputs": [],
      "source": [
        "import reda.utils.geometric_factors as geomK\nK = geomK.compute_K_analytical(ip.data, spacing=2)\ngeomK.apply_K(ip.data, K)\n\nimport reda.utils.fix_sign_with_K as fixK\nip.data = fixK.fix_sign_with_K(ip.data)"
      ]
    },
    {
      "cell_type": "markdown",
      "metadata": {},
      "source": [
        "you can also specify only one index\nthis will only return a figure object, but will not save to file:\n\n"
      ]
    },
    {
      "cell_type": "code",
      "execution_count": null,
      "metadata": {
        "collapsed": false
      },
      "outputs": [],
      "source": [
        "ip.plot_decay_curve(\n    filename='decay_curve.png', index_nor=0, return_fig=True)"
      ]
    }
  ],
  "metadata": {
    "kernelspec": {
      "display_name": "Python 3",
      "language": "python",
      "name": "python3"
    },
    "language_info": {
      "codemirror_mode": {
        "name": "ipython",
        "version": 3
      },
      "file_extension": ".py",
      "mimetype": "text/x-python",
      "name": "python",
      "nbconvert_exporter": "python",
      "pygments_lexer": "ipython3",
      "version": "3.9.12"
    }
  },
  "nbformat": 4,
  "nbformat_minor": 0
}