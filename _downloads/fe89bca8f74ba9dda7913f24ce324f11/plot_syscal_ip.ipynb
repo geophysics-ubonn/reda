{
  "cells": [
    {
      "cell_type": "code",
      "execution_count": null,
      "metadata": {
        "collapsed": false
      },
      "outputs": [],
      "source": [
        "%matplotlib inline"
      ]
    },
    {
      "cell_type": "markdown",
      "metadata": {},
      "source": [
        "\n# Importing Syscal IP data\n"
      ]
    },
    {
      "cell_type": "code",
      "execution_count": null,
      "metadata": {
        "collapsed": false
      },
      "outputs": [],
      "source": [
        "import reda"
      ]
    },
    {
      "cell_type": "markdown",
      "metadata": {},
      "source": [
        "a hack to prevent large loading times...\n\n"
      ]
    },
    {
      "cell_type": "code",
      "execution_count": null,
      "metadata": {
        "collapsed": false
      },
      "outputs": [],
      "source": [
        "# import os\n# import pickle\n# pfile = 'ip.pickle'\n# if os.path.isfile(pfile):\n#     with open(pfile, 'rb') as fid:\n#         ip = pickle.load(fid)\n# else:\n#     ip = reda.TDIP()\n#     ip.import_syscal_bin('data_syscal_ip/data_normal.bin')\n#     ip.import_syscal_bin(\n#       'data_syscal_ip/data_reciprocal.bin', reciprocals=48)\n#     with open(pfile, 'wb') as fid:\n#         pickle.dump(ip, fid)"
      ]
    },
    {
      "cell_type": "markdown",
      "metadata": {},
      "source": [
        "normal loading of tdip data\n\n"
      ]
    },
    {
      "cell_type": "code",
      "execution_count": null,
      "metadata": {
        "collapsed": false
      },
      "outputs": [],
      "source": [
        "ip = reda.TDIP()\n# import pprofile\n# profiler = pprofile.Profile()\n# with profiler():\nip.import_syscal_bin('data_syscal_ip/data_normal.bin')\n# profile.print_stats()\n# exit()\nip.import_syscal_bin('data_syscal_ip/data_reciprocal.bin', reciprocals=48)\n\n\nprint(ip.data[['a', 'b', 'm', 'n', 'id', 'norrec']])\n\n# import IPython\n# IPython.embed()\n# exit()"
      ]
    },
    {
      "cell_type": "code",
      "execution_count": null,
      "metadata": {
        "collapsed": false
      },
      "outputs": [],
      "source": [
        "import reda.utils.geometric_factors as geomK\nK = geomK.compute_K_analytical(ip.data, spacing=0.25)\ngeomK.apply_K(ip.data, K)\n\nimport reda.utils.fix_sign_with_K as fixK\nip.data = fixK.fix_sign_with_K(ip.data)"
      ]
    },
    {
      "cell_type": "markdown",
      "metadata": {},
      "source": [
        "plot a decay curve by specifying the index\nnote that no file will be saved to disk if filename parameter is not provided\n\n"
      ]
    },
    {
      "cell_type": "code",
      "execution_count": null,
      "metadata": {
        "collapsed": false
      },
      "outputs": [],
      "source": [
        "ip.plot_decay_curve(filename='decay_curve.png',\n                    index_nor=0, index_rec=1978, return_fig=True)"
      ]
    },
    {
      "cell_type": "markdown",
      "metadata": {},
      "source": [
        "you can also specify only one index\nthis will only return a figure object, but will not save to file:\n\n"
      ]
    },
    {
      "cell_type": "code",
      "execution_count": null,
      "metadata": {
        "collapsed": false
      },
      "outputs": [],
      "source": [
        "ip.plot_decay_curve(filename='decay_curve.png',\n                    index_nor=0, return_fig=True)"
      ]
    },
    {
      "cell_type": "markdown",
      "metadata": {},
      "source": [
        "it does not matter if you choose normal or reciprocal\n\n"
      ]
    },
    {
      "cell_type": "code",
      "execution_count": null,
      "metadata": {
        "collapsed": false
      },
      "outputs": [],
      "source": [
        "ip.plot_decay_curve(index_rec=0, return_fig=True)"
      ]
    },
    {
      "cell_type": "markdown",
      "metadata": {},
      "source": [
        "plot a decay curve by specifying the index\n\n"
      ]
    },
    {
      "cell_type": "code",
      "execution_count": null,
      "metadata": {
        "collapsed": false
      },
      "outputs": [],
      "source": [
        "ip.plot_decay_curve(nr_id=170, return_fig=True)"
      ]
    },
    {
      "cell_type": "markdown",
      "metadata": {},
      "source": [
        "a  b  m  n\n0     1  2  4  5\n1978  5  4  2  1\n\n"
      ]
    },
    {
      "cell_type": "code",
      "execution_count": null,
      "metadata": {
        "collapsed": false
      },
      "outputs": [],
      "source": [
        "ip.plot_decay_curve(abmn=(1, 2, 5, 4), return_fig=True)"
      ]
    },
    {
      "cell_type": "markdown",
      "metadata": {},
      "source": [
        "reciprocal is also ok\n\n"
      ]
    },
    {
      "cell_type": "code",
      "execution_count": null,
      "metadata": {
        "collapsed": false
      },
      "outputs": [],
      "source": [
        "ip.plot_decay_curve(abmn=(4, 5, 2, 1), return_fig=True)"
      ]
    }
  ],
  "metadata": {
    "kernelspec": {
      "display_name": "Python 3",
      "language": "python",
      "name": "python3"
    },
    "language_info": {
      "codemirror_mode": {
        "name": "ipython",
        "version": 3
      },
      "file_extension": ".py",
      "mimetype": "text/x-python",
      "name": "python",
      "nbconvert_exporter": "python",
      "pygments_lexer": "ipython3",
      "version": "3.9.5"
    }
  },
  "nbformat": 4,
  "nbformat_minor": 0
}