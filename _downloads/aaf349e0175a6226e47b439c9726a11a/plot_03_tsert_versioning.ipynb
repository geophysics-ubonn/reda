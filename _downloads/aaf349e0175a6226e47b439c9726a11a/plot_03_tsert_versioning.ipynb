{
  "cells": [
    {
      "cell_type": "code",
      "execution_count": null,
      "metadata": {
        "collapsed": false
      },
      "outputs": [],
      "source": [
        "%matplotlib inline"
      ]
    },
    {
      "cell_type": "markdown",
      "metadata": {},
      "source": [
        "\n# TSERT: Different data versions\n\nThe TSERT file format can store different versions of data.\n"
      ]
    },
    {
      "cell_type": "code",
      "execution_count": null,
      "metadata": {
        "collapsed": false
      },
      "outputs": [],
      "source": [
        "import datetime\n\nimport numpy as np\nimport pandas as pd\n\nimport reda\n# import h5py\n# import pandas as pd"
      ]
    },
    {
      "cell_type": "markdown",
      "metadata": {},
      "source": [
        "Export data to the tsert file format\n\n"
      ]
    },
    {
      "cell_type": "code",
      "execution_count": null,
      "metadata": {
        "collapsed": false
      },
      "outputs": [],
      "source": [
        "ert = reda.ERT()\n\n# set electrode positions\nelectrodes = reda.electrode_manager()\nelectrodes.add_by_position(np.arange(0, 40) * 0.25)\nert.electrode_positions = electrodes.electrode_positions\n\n# set topography\ntopography = pd.DataFrame(columns=['x', 'y', 'z'])\ntopography['x'] = np.arange(0, 40) * 0.25\ntopography['y'] = 0\ntopography['z'] = 0\nert.topography = topography"
      ]
    },
    {
      "cell_type": "markdown",
      "metadata": {},
      "source": [
        "Let us store three different time steps into the hdf container\n\n"
      ]
    },
    {
      "cell_type": "code",
      "execution_count": null,
      "metadata": {
        "collapsed": false
      },
      "outputs": [],
      "source": [
        "ert.import_crtomo_data(\n    'data/2018-04-13_11-00-25+00-00.dat',\n    timestep=datetime.datetime(2018, 5, 13),\n)\nert.import_crtomo_data(\n    'data/2018-06-01_09-00-43+00-00.dat',\n    timestep=datetime.datetime(2018, 6, 1)\n)\nert.import_crtomo_data(\n    'data/2018-08-02_09-00-14+00-00.dat',\n    timestep=datetime.datetime(2018, 8, 2),\n)\n\nert.export_tsert(\n    'data_versions.h5',\n    version='base',\n)"
      ]
    },
    {
      "cell_type": "markdown",
      "metadata": {},
      "source": [
        "Change the data a little bit\n\n"
      ]
    },
    {
      "cell_type": "code",
      "execution_count": null,
      "metadata": {
        "collapsed": false
      },
      "outputs": [],
      "source": [
        "ert.filter('r < 40')\nert.export_tsert(\n    'data_versions.h5',\n    version='filtered',\n)"
      ]
    },
    {
      "cell_type": "markdown",
      "metadata": {},
      "source": [
        "Check the content of the file. Note the listing of different versions\n\n"
      ]
    },
    {
      "cell_type": "code",
      "execution_count": null,
      "metadata": {
        "collapsed": false
      },
      "outputs": [],
      "source": [
        "ert.tsert_summary('data_versions.h5')"
      ]
    },
    {
      "cell_type": "markdown",
      "metadata": {},
      "source": [
        "# Loading data from the tsert file format\n Here we only load the filtered data, which amounts to only 310 data points\n\n"
      ]
    },
    {
      "cell_type": "code",
      "execution_count": null,
      "metadata": {
        "collapsed": false
      },
      "outputs": [],
      "source": [
        "ert_load = reda.ERT()\nert_load.import_tsert('data_versions.h5', version='filtered')"
      ]
    }
  ],
  "metadata": {
    "kernelspec": {
      "display_name": "Python 3",
      "language": "python",
      "name": "python3"
    },
    "language_info": {
      "codemirror_mode": {
        "name": "ipython",
        "version": 3
      },
      "file_extension": ".py",
      "mimetype": "text/x-python",
      "name": "python",
      "nbconvert_exporter": "python",
      "pygments_lexer": "ipython3",
      "version": "3.9.12"
    }
  },
  "nbformat": 4,
  "nbformat_minor": 0
}