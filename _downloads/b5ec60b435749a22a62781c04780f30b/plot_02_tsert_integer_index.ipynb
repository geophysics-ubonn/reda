{
  "cells": [
    {
      "cell_type": "code",
      "execution_count": null,
      "metadata": {
        "collapsed": false
      },
      "outputs": [],
      "source": [
        "%matplotlib inline"
      ]
    },
    {
      "cell_type": "markdown",
      "metadata": {},
      "source": [
        "\n# TSERT: data with integer indices\n\nNote that timestep keys can have arbitrary types. However, only one type of key\nis supported at any type.\nThis example uses integers as keys.\n"
      ]
    },
    {
      "cell_type": "code",
      "execution_count": null,
      "metadata": {
        "collapsed": false
      },
      "outputs": [],
      "source": [
        "import numpy as np\nimport pandas as pd\n\nimport reda"
      ]
    },
    {
      "cell_type": "markdown",
      "metadata": {},
      "source": [
        "Export data to the tsert file format\n\n"
      ]
    },
    {
      "cell_type": "code",
      "execution_count": null,
      "metadata": {
        "collapsed": false
      },
      "outputs": [],
      "source": [
        "ert = reda.ERT()\n\n# set electrode positions\nelectrodes = reda.electrode_manager()\nelectrodes.add_by_position(np.arange(0, 40) * 0.25)\nert.electrode_positions = electrodes.electrode_positions\n\n# set topograhy\ntopography = pd.DataFrame(columns=['x', 'y', 'z'])\ntopography['x'] = np.arange(0, 40) * 0.25\ntopography['y'] = 0\ntopography['z'] = 0\nert.topography = topography\n\n# # version 1\nert.import_crtomo_data(\n    'data/2018-04-13_11-00-25+00-00.dat',\n    timestep=10,\n)\nert.import_crtomo_data(\n    'data/2018-06-01_09-00-43+00-00.dat',\n    timestep=11,\n)\nert.import_crtomo_data(\n    'data/2018-08-02_09-00-14+00-00.dat',\n    timestep=12\n)\n\nert.export_tsert(\n    'data_integer_indices.h5',\n    version='base',\n)"
      ]
    },
    {
      "cell_type": "markdown",
      "metadata": {},
      "source": [
        "Loading data from the tsert file format\n\n"
      ]
    },
    {
      "cell_type": "code",
      "execution_count": null,
      "metadata": {
        "collapsed": false
      },
      "outputs": [],
      "source": [
        "# create an ert container\nert = reda.ERT()\n\n# this is an optional command: it summarises a given file without loading\n# anything\nert.tsert_summary('data_integer_indices.h5', print_index=True)\n\n# do the actual import\nert.import_tsert(\n    'data_integer_indices.h5',\n)\n\nprint(ert.data.groupby('timestep').groups.keys())\n\nassert ert.data.shape[0] == 1962, \\\n    \"Expected number of data points is {}\".format(1962)"
      ]
    }
  ],
  "metadata": {
    "kernelspec": {
      "display_name": "Python 3",
      "language": "python",
      "name": "python3"
    },
    "language_info": {
      "codemirror_mode": {
        "name": "ipython",
        "version": 3
      },
      "file_extension": ".py",
      "mimetype": "text/x-python",
      "name": "python",
      "nbconvert_exporter": "python",
      "pygments_lexer": "ipython3",
      "version": "3.9.12"
    }
  },
  "nbformat": 4,
  "nbformat_minor": 0
}