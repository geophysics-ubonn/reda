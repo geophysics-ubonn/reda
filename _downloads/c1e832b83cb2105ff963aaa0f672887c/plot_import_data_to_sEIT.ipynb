{
  "cells": [
    {
      "cell_type": "code",
      "execution_count": null,
      "metadata": {
        "collapsed": false
      },
      "outputs": [],
      "source": [
        "%matplotlib inline"
      ]
    },
    {
      "cell_type": "markdown",
      "metadata": {},
      "source": [
        "\n# Multi-frequency CRTomo data import\n\nImport CRTomo-style multiy-frequency measurement data into a sEIT container\n"
      ]
    },
    {
      "cell_type": "markdown",
      "metadata": {},
      "source": [
        "imports\n\n"
      ]
    },
    {
      "cell_type": "code",
      "execution_count": null,
      "metadata": {
        "collapsed": false
      },
      "outputs": [],
      "source": [
        "import os\nimport subprocess\nimport reda"
      ]
    },
    {
      "cell_type": "markdown",
      "metadata": {},
      "source": [
        "show the directory/file structure of the input data\n\n"
      ]
    },
    {
      "cell_type": "code",
      "execution_count": null,
      "metadata": {
        "collapsed": false
      },
      "outputs": [],
      "source": [
        "# structure of the input data:\ninput_dir = 'data_crtomo_format'\nfor filename in sorted(os.listdir(input_dir)):\n    print(filename)\n\n# the frequencies.dat filename contains the frequencies, corresponding to the\n# volt* files\nprint('content of frequencies.dat')\nsubprocess.call('cat {}/frequencies.dat'.format(input_dir), shell=True)"
      ]
    },
    {
      "cell_type": "markdown",
      "metadata": {},
      "source": [
        "create the container\n\n"
      ]
    },
    {
      "cell_type": "code",
      "execution_count": null,
      "metadata": {
        "collapsed": false
      },
      "outputs": [],
      "source": [
        "seit = reda.sEIT()\nseit.import_crtomo('data_crtomo_format/')\nseit.frequencies"
      ]
    }
  ],
  "metadata": {
    "kernelspec": {
      "display_name": "Python 3",
      "language": "python",
      "name": "python3"
    },
    "language_info": {
      "codemirror_mode": {
        "name": "ipython",
        "version": 3
      },
      "file_extension": ".py",
      "mimetype": "text/x-python",
      "name": "python",
      "nbconvert_exporter": "python",
      "pygments_lexer": "ipython3",
      "version": "3.9.12"
    }
  },
  "nbformat": 4,
  "nbformat_minor": 0
}