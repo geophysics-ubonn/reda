{
  "cells": [
    {
      "cell_type": "code",
      "execution_count": null,
      "metadata": {
        "collapsed": false
      },
      "outputs": [],
      "source": [
        "%matplotlib inline"
      ]
    },
    {
      "cell_type": "markdown",
      "metadata": {},
      "source": [
        "\n# Single-frequency CRTomo data import\n\nImport CRTomo-style single-frequency measurement data into a CR container\n"
      ]
    },
    {
      "cell_type": "markdown",
      "metadata": {},
      "source": [
        "structure of the input data:\n\n"
      ]
    },
    {
      "cell_type": "code",
      "execution_count": null,
      "metadata": {
        "collapsed": false
      },
      "outputs": [],
      "source": [
        "import os\ninput_dir = 'data_crtomo_format'\nfor filename in sorted(os.listdir(input_dir)):\n    print(filename)\n\n# the frequencies.dat filename contains the frequencies, corresponding to the\n# volt* files\nimport subprocess\nprint('content of frequencies.dat')\nsubprocess.call('cat {}/frequencies.dat'.format(input_dir), shell=True)"
      ]
    },
    {
      "cell_type": "markdown",
      "metadata": {},
      "source": [
        "import only one frequency into a CR (complex resistivity) container\n\n"
      ]
    },
    {
      "cell_type": "code",
      "execution_count": null,
      "metadata": {
        "collapsed": false
      },
      "outputs": [],
      "source": [
        "import reda\ncr = reda.CR()\ncr.import_crtomo_data('data_crtomo_format/volt_01_0.462963Hz.crt')"
      ]
    }
  ],
  "metadata": {
    "kernelspec": {
      "display_name": "Python 3",
      "language": "python",
      "name": "python3"
    },
    "language_info": {
      "codemirror_mode": {
        "name": "ipython",
        "version": 3
      },
      "file_extension": ".py",
      "mimetype": "text/x-python",
      "name": "python",
      "nbconvert_exporter": "python",
      "pygments_lexer": "ipython3",
      "version": "3.9.5"
    }
  },
  "nbformat": 4,
  "nbformat_minor": 0
}