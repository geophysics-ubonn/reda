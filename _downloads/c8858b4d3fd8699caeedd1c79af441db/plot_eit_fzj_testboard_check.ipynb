{
  "cells": [
    {
      "cell_type": "code",
      "execution_count": null,
      "metadata": {
        "collapsed": false
      },
      "outputs": [],
      "source": [
        "%matplotlib inline"
      ]
    },
    {
      "cell_type": "markdown",
      "metadata": {},
      "source": [
        "\n# EIT40 Testboard V2\n\nThis example shows how to execute the helper function \"testboard_evaluation\"\nfrom the eit_fzj_utils. It is used to plot the results of measurements\nconducted on the testboard that was built to check the functionality of the\neit systems. A theoretical calculated response that is based on the built-in\nresistors and capicitors is plotted together with the measurement results.\n"
      ]
    },
    {
      "cell_type": "code",
      "execution_count": null,
      "metadata": {
        "collapsed": false
      },
      "outputs": [],
      "source": [
        "import reda\nimport numpy as np\n\n# A config with the used channels/configurations has to be put in. This can be\n# a numpy array or a config.dat-file. It is important that normal and\n# reciprocal measurements are taken for the check.\n\nconfigs = np.array([\n    [1, 4, 2, 3],\n    [2, 3, 1, 4],\n    [5, 8, 6, 7],\n    [6, 7, 5, 8]\n])\n\n# The function can be executed with the following command. The first parameter\n# has to lead to the datapath of the measurement, the second to the config.dat\n# or config array and the third one denotes the output name. Optional\n# parameters are the frequency range to compare the measurements to\n# (input has to be in log10-space) and the error-percentage of the\n# measurements.\n\nreda.utils.eit_fzj_utils.testboard_evaluation(\n    \"data_eit_fzj_testboard/eit_data_mnu0.mat\",\n     configs,\n    'data_eit_fzj_testboard/testboard'\n)"
      ]
    }
  ],
  "metadata": {
    "kernelspec": {
      "display_name": "Python 3",
      "language": "python",
      "name": "python3"
    },
    "language_info": {
      "codemirror_mode": {
        "name": "ipython",
        "version": 3
      },
      "file_extension": ".py",
      "mimetype": "text/x-python",
      "name": "python",
      "nbconvert_exporter": "python",
      "pygments_lexer": "ipython3",
      "version": "3.9.5"
    }
  },
  "nbformat": 4,
  "nbformat_minor": 0
}