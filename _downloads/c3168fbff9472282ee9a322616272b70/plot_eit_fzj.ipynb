{
  "cells": [
    {
      "cell_type": "code",
      "execution_count": null,
      "metadata": {
        "collapsed": false
      },
      "outputs": [],
      "source": [
        "%matplotlib inline"
      ]
    },
    {
      "cell_type": "markdown",
      "metadata": {},
      "source": [
        "\n# Importing FZJ EIT40/EIT160 data\n\nThis example shows how to import data from the various versions of the EIT\nsystem developed by Zimmermann et al. 2008\n(http://iopscience.iop.org/article/10.1088/0957-0233/19/9/094010/meta).\n\nAt this point we only support 3-point data, i.e., data which uses two\nelectrodes to inject current, and then uses all electrodes to measure the\nresulting potential distribution against system ground. Classical four-point\nconfigurations are then computed using superposition.\n\nRequired are two files: a data file (usually **eit_data_mnu0.mat** and a text\nfile (usually **configs.dat** containing the measurement configurations to\nextract.\n\nThe configs.dat file contains the four-point spreads to be imported from the\nmeasurement. This file is a text file with four columns (A, B, M, N),\nseparated by spaces or tabs. Each line denotes one measurement: ::\n\n    1   2   4   3\n    2   3   5   6\n\nAn alternative to the config.dat file is to permute all current injection\ndipoles as voltage dipoles, resulting in a fully normal-reciprocal\nconfiguration set. This set can be automatically generated from the measurement\ndata by providing a special function as the config-parameter in the import\nfunction. This is explained below.\n"
      ]
    },
    {
      "cell_type": "markdown",
      "metadata": {},
      "source": [
        "Import reda\n\n"
      ]
    },
    {
      "cell_type": "code",
      "execution_count": null,
      "metadata": {
        "collapsed": false
      },
      "outputs": [],
      "source": [
        "import reda"
      ]
    },
    {
      "cell_type": "markdown",
      "metadata": {},
      "source": [
        "Initialize an sEIT container\n\n"
      ]
    },
    {
      "cell_type": "code",
      "execution_count": null,
      "metadata": {
        "collapsed": false
      },
      "outputs": [],
      "source": [
        "seit = reda.sEIT()\n\n# import the data\nseit.import_eit_fzj(\n    filename='data_EIT40_v_EZ-2017/eit_data_mnu0.mat',\n    configfile='data_EIT40_v_EZ-2017/configs_large_dipoles_norrec.dat'\n)"
      ]
    },
    {
      "cell_type": "markdown",
      "metadata": {},
      "source": [
        "an alternative would be to automatically create measurement configurations\nfrom the current injection dipoles:\n\n"
      ]
    },
    {
      "cell_type": "code",
      "execution_count": null,
      "metadata": {
        "collapsed": false
      },
      "outputs": [],
      "source": [
        "from reda.importers.eit_fzj import MD_ConfigsPermutate\n\n# initialize an sEIT container\nseit_not_used = reda.sEIT()\n\n# import the data\nseit_not_used.import_eit_fzj(\n    filename='data_EIT40_v_EZ-2017/eit_data_mnu0.mat',\n    configfile=MD_ConfigsPermutate\n)"
      ]
    },
    {
      "cell_type": "markdown",
      "metadata": {},
      "source": [
        "Compute geometric factors\n\n"
      ]
    },
    {
      "cell_type": "code",
      "execution_count": null,
      "metadata": {
        "collapsed": false
      },
      "outputs": [],
      "source": [
        "import reda.utils.geometric_factors as redaK\nimport reda.utils.fix_sign_with_K as redafixK\n\nK = redaK.compute_K_analytical(seit.data, spacing=0.25)\nredaK.apply_K(seit.data, K)\nredafixK.fix_sign_with_K(seit.data)"
      ]
    },
    {
      "cell_type": "markdown",
      "metadata": {},
      "source": [
        "compute normal and reciprocal pairs\nnote that this is usually done on import once.\n\n"
      ]
    },
    {
      "cell_type": "code",
      "execution_count": null,
      "metadata": {
        "collapsed": false
      },
      "outputs": [],
      "source": [
        "import reda.utils.norrec as norrec\nseit.data = norrec.assign_norrec_to_df(seit.data)"
      ]
    },
    {
      "cell_type": "markdown",
      "metadata": {},
      "source": [
        "quadrupoles can be directly accessed using a pandas grouper\n\n"
      ]
    },
    {
      "cell_type": "code",
      "execution_count": null,
      "metadata": {
        "collapsed": false
      },
      "outputs": [],
      "source": [
        "print(seit.abmn)\nquadpole_data = seit.abmn.get_group((10, 29, 15, 34))\nprint(quadpole_data[['a', 'b', 'm', 'n', 'frequency', 'r', 'rpha']])"
      ]
    },
    {
      "cell_type": "markdown",
      "metadata": {},
      "source": [
        "in a similar fashion, spectra can be extracted and plotted\n\n"
      ]
    },
    {
      "cell_type": "code",
      "execution_count": null,
      "metadata": {
        "collapsed": false
      },
      "outputs": [],
      "source": [
        "spec_nor, spec_rec = seit.get_spectrum(abmn=(10, 29, 15, 34))\n\nprint(type(spec_nor))\nprint(type(spec_rec))\n\nwith reda.CreateEnterDirectory('output_eit_fzj'):\n    spec_nor.plot(filename='spectrum_10_29_15_34.pdf')\n\n# Note that there is also the convenient script\n# :py:meth:`reda.sEIT.plot_all_spectra`, which can be used to plot all spectra\n# of the container into separate files, given an output directory."
      ]
    },
    {
      "cell_type": "markdown",
      "metadata": {},
      "source": [
        "filter data\n\n"
      ]
    },
    {
      "cell_type": "code",
      "execution_count": null,
      "metadata": {
        "collapsed": false
      },
      "outputs": [],
      "source": [
        "seit.remove_frequencies(1e-3, 300)\nseit.query('rpha < 10')\nseit.query('rpha > -40')\nseit.query('rho_a > 15 and rho_a < 35')\nseit.query('k < 400')"
      ]
    },
    {
      "cell_type": "markdown",
      "metadata": {},
      "source": [
        "Plotting histograms\nRaw data plots (execute before applying the filters):\n\n"
      ]
    },
    {
      "cell_type": "code",
      "execution_count": null,
      "metadata": {
        "collapsed": false
      },
      "outputs": [],
      "source": [
        "# import os\n# import reda.plotters.histograms as redahist\n\n# if not os.path.isdir('hists_raw'):\n#     os.makedirs('hists_raw')\n\n# # plot histograms for all frequencies\n# r = redahist.plot_histograms_extra_dims(\n#     seit.data, ['R', 'rpha'], ['frequency']\n# )\n# for f in sorted(r.keys()):\n#     r[f]['all'].savefig('hists_raw/hist_raw_f_{0}.png'.format(f), dpi=300)\n\n# if not os.path.isdir('hists_filtered'):\n#     os.makedirs('hists_filtered')\n\n# r = redahist.plot_histograms_extra_dims(\n#     seit.data, ['R', 'rpha'], ['frequency']\n# )\n\n# for f in sorted(r.keys()):\n#     r[f]['all'].savefig(\n#         'hists_filtered/hist_filtered_f_{0}.png'.format(f), dpi=300\n#     )"
      ]
    },
    {
      "cell_type": "markdown",
      "metadata": {},
      "source": [
        "Now export the data to CRTomo-compatible files\nthis context manager executes all code within the given directory\n\n"
      ]
    },
    {
      "cell_type": "code",
      "execution_count": null,
      "metadata": {
        "collapsed": false
      },
      "outputs": [],
      "source": [
        "with reda.CreateEnterDirectory('output_eit_fzj'):\n    import reda.exporters.crtomo as redaex\n    redaex.write_files_to_directory(seit.data, 'crt_results', norrec='nor', )"
      ]
    },
    {
      "cell_type": "markdown",
      "metadata": {},
      "source": [
        "Plot pseudosections of all frequencies\n\n"
      ]
    },
    {
      "cell_type": "code",
      "execution_count": null,
      "metadata": {
        "collapsed": false
      },
      "outputs": [],
      "source": [
        "import reda.plotters.pseudoplots as PS\nimport pylab as plt\n\nwith reda.CreateEnterDirectory('output_eit_fzj'):\n    g = seit.data.groupby('frequency')\n    fig, axes = plt.subplots(\n        4, 2,\n        figsize=(15 / 2.54, 20 / 2.54),\n        sharex=True, sharey=True\n    )\n    for ax, (key, item) in zip(axes.flat, g):\n        fig, ax, cb = PS.plot_pseudosection_type2(item, ax=ax, column='r')\n        ax.set_title('f: {} Hz'.format(key))\n    fig.tight_layout()\n    fig.savefig('pseudosections_eit40.pdf')"
      ]
    },
    {
      "cell_type": "markdown",
      "metadata": {},
      "source": [
        "alternative\n\n"
      ]
    },
    {
      "cell_type": "code",
      "execution_count": null,
      "metadata": {
        "collapsed": false
      },
      "outputs": [],
      "source": [
        "with reda.CreateEnterDirectory('output_eit_fzj'):\n    seit.plot_pseudosections(\n        column='r', filename='pseudosections_eit40_v2.pdf'\n    )"
      ]
    }
  ],
  "metadata": {
    "kernelspec": {
      "display_name": "Python 3",
      "language": "python",
      "name": "python3"
    },
    "language_info": {
      "codemirror_mode": {
        "name": "ipython",
        "version": 3
      },
      "file_extension": ".py",
      "mimetype": "text/x-python",
      "name": "python",
      "nbconvert_exporter": "python",
      "pygments_lexer": "ipython3",
      "version": "3.9.5"
    }
  },
  "nbformat": 4,
  "nbformat_minor": 0
}