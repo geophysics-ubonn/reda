{
  "cells": [
    {
      "cell_type": "code",
      "execution_count": null,
      "metadata": {
        "collapsed": false
      },
      "outputs": [],
      "source": [
        "%matplotlib inline"
      ]
    },
    {
      "cell_type": "markdown",
      "metadata": {},
      "source": [
        "\n# Analyzing total capacitances at each electrode during current injection\n\nIt is useful to conduct additional measurements for each sEIT setup and\ndetermine the total capacitances seen by each electrode during current\nexcitation.\nThis parameter is helpful in assessing leakages and general electrical flow\npaths with respect to system ground.\n\nFor more information, see:\n\nZimmermann, E., Huisman, J. A., Mester, A., and van Waasen, S.: Correction of\nphase errors due to leakage currents in wideband EIT field measurements on\nsoil and sediments, Measurement Science and Technology, 30, 084 002,\ndoi:10.1088/1361-6501/ab1b09, 2019.\n"
      ]
    },
    {
      "cell_type": "code",
      "execution_count": null,
      "metadata": {
        "collapsed": false
      },
      "outputs": [],
      "source": [
        "import matplotlib.pylab as plt\nimport numpy as np\n\nimport reda\nimport reda.importers.eit_fzj as eit_fzj\n\nmd_data = eit_fzj.get_md_data(\n    'data_eit_fzj_li/eit_data.mat', multiplexer_group=1\n)\nprint('Available frequencies:', np.unique(md_data['frequency'].values))\ndata_1k = md_data.query('frequency == 1000')\n\n# convert to [nF]\nCl_1k_nF = np.abs(data_1k[['Cl1', 'Cl2', 'Cl3']] / 1e-9)\n\nmin_Cl = np.min(Cl_1k_nF[['Cl1', 'Cl2', 'Cl3']], axis=1)\nmax_Cl = np.max(Cl_1k_nF[['Cl1', 'Cl2', 'Cl3']], axis=1)\nmean_Cl = np.mean(Cl_1k_nF[['Cl1', 'Cl2', 'Cl3']], axis=1)\n\nfig, ax = plt.subplots(1, 1, figsize=(8.3 / 2.54, 4.5 / 2.54))\nax.fill_between(\n    range(0, len(mean_Cl)), y1=np.real(min_Cl), y2=np.real(max_Cl)\n)\nax.plot(np.real(mean_Cl), '.')\nax.set_ylabel('real(Cl) [nF]')\nfig.tight_layout()\n\nwith reda.CreateEnterDirectory('output_eit_fzj_li'):\n    fig.savefig('electrode_capacitances.jpg', dpi=300)"
      ]
    }
  ],
  "metadata": {
    "kernelspec": {
      "display_name": "Python 3",
      "language": "python",
      "name": "python3"
    },
    "language_info": {
      "codemirror_mode": {
        "name": "ipython",
        "version": 3
      },
      "file_extension": ".py",
      "mimetype": "text/x-python",
      "name": "python",
      "nbconvert_exporter": "python",
      "pygments_lexer": "ipython3",
      "version": "3.9.5"
    }
  },
  "nbformat": 4,
  "nbformat_minor": 0
}